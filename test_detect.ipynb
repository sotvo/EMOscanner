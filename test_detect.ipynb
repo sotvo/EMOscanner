{
 "cells": [
  {
   "cell_type": "markdown",
   "metadata": {},
   "source": [
    "Установить все из requirements.\n",
    "Предварительно создать среду в Anaconda с python==3.6\n",
    "\n",
    "инструкция по установке dlib. Выполнить в терминале:\n",
    "\n",
    "pip install https://pypi.python.org/packages/da/06/bd3e241c4eb0a662914b3b4875fc52dd176a9db0d4a2c915ac2ad8800e9e/dlib-19.7.0-cp36-cp36m-win_amd64.whl#md5=b7330a5b2d46420343fbed5df69e6a3f"
   ]
  },
  {
   "cell_type": "code",
   "execution_count": null,
   "metadata": {},
   "outputs": [],
   "source": [
    "from detector import *\n",
    "\n",
    "detection_model_path = 'Emotion-recognition/haarcascade_files/haarcascade_frontalface_default.xml'\n",
    "emotion_model_path = 'Emotion-recognition/models/_mini_XCEPTION.102-0.66.hdf5'"
   ]
  },
  {
   "cell_type": "markdown",
   "metadata": {},
   "source": [
    "img_dir путь к папке, куда сохранять картинки из видео. если None, будет по вебке\n",
    "video_path путь к видео, если анализируем видео. если None, будет по вебке"
   ]
  },
  {
   "cell_type": "code",
   "execution_count": null,
   "metadata": {},
   "outputs": [],
   "source": [
    "img_dir, video_path = None, None # 'ims', 'vid2.mp4'\n",
    "\n",
    "vd = VideoDetector(detection_model_path, emotion_model_path, img_dir)\n",
    "if video_path:\n",
    "    vd.extract_images(video_path) "
   ]
  },
  {
   "cell_type": "code",
   "execution_count": null,
   "metadata": {},
   "outputs": [],
   "source": [
    "vd.annotate_imgs()"
   ]
  },
  {
   "cell_type": "code",
   "execution_count": null,
   "metadata": {},
   "outputs": [],
   "source": []
  },
  {
   "cell_type": "code",
   "execution_count": null,
   "metadata": {},
   "outputs": [],
   "source": []
  }
 ],
 "metadata": {
  "kernelspec": {
   "display_name": "Python 3",
   "language": "python",
   "name": "python3"
  },
  "language_info": {
   "codemirror_mode": {
    "name": "ipython",
    "version": 3
   },
   "file_extension": ".py",
   "mimetype": "text/x-python",
   "name": "python",
   "nbconvert_exporter": "python",
   "pygments_lexer": "ipython3",
   "version": "3.7.1"
  }
 },
 "nbformat": 4,
 "nbformat_minor": 4
}
